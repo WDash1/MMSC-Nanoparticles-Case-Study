{
 "cells": [
  {
   "cell_type": "code",
   "execution_count": 1,
   "metadata": {},
   "outputs": [],
   "source": [
    "import numpy as np\n",
    "from scipy.integrate import odeint\n",
    "from math import factorial\n",
    "import pylab as pl\n",
    "%matplotlib inline"
   ]
  },
  {
   "cell_type": "code",
   "execution_count": 8,
   "metadata": {},
   "outputs": [],
   "source": [
    "lcap = 6e-9\n",
    "R0   = 2.84984057e-09\n",
    "cinf = 55.33\n",
    "cs   = 5.53e-2\n",
    "Vm   = 3.29e-5\n",
    "D    = 3.01e-18\n",
    "k    = 7.97e-10\n",
    "N0   = 8.04e21\n",
    "beta = 4 * np.pi * N0 * R0**3 / (3 * Vm)\n",
    "Da1  = D/(k*R0)\n",
    "\n",
    "# Order of trunction for exponential:\n",
    "n = 2"
   ]
  },
  {
   "cell_type": "code",
   "execution_count": 9,
   "metadata": {},
   "outputs": [],
   "source": [
    "delta_C = cinf - cs * np.exp(lcap/R0)\n",
    "t0      = R0**2 / (Vm * D * delta_C)"
   ]
  },
  {
   "cell_type": "code",
   "execution_count": 25,
   "metadata": {},
   "outputs": [],
   "source": [
    "# Data from the peng paper\n",
    "data = np.loadtxt('peng.txt', delimiter=',')"
   ]
  },
  {
   "cell_type": "code",
   "execution_count": 26,
   "metadata": {},
   "outputs": [],
   "source": [
    "def dx_dt(x, t, Da):\n",
    "    csolute = cinf - np.sum(beta * (x**(1/(n+1)))**3)\n",
    "    expapprox = x**(n/n+1)\n",
    "    for i in range(1, n+1):\n",
    "        expapprox += lcap**i / factorial(i) * x**((n-i)/(n+1))\n",
    "    dxdt = (n+1) * (csolute * x**(n/n+1) - cs * expapprox)/(delta_C * (Da + (x**(1/(n+1))/R0)))\n",
    "    return dxdt"
   ]
  },
  {
   "cell_type": "code",
   "execution_count": 27,
   "metadata": {},
   "outputs": [],
   "source": [
    "t = np.linspace(0, 10, 1000)"
   ]
  },
  {
   "cell_type": "code",
   "execution_count": 34,
   "metadata": {},
   "outputs": [
    {
     "name": "stderr",
     "output_type": "stream",
     "text": [
      "/home/hyperion/miniconda3/envs/bolt/lib/python3.7/site-packages/ipykernel_launcher.py:2: RuntimeWarning: invalid value encountered in power\n",
      "  \n",
      "/home/hyperion/miniconda3/envs/bolt/lib/python3.7/site-packages/ipykernel_launcher.py:5: RuntimeWarning: invalid value encountered in power\n",
      "  \"\"\"\n",
      "/home/hyperion/miniconda3/envs/bolt/lib/python3.7/site-packages/ipykernel_launcher.py:6: RuntimeWarning: invalid value encountered in power\n",
      "  \n"
     ]
    }
   ],
   "source": [
    "Rinit = 1\n",
    "xinit = (Rinit * R0)**(n+1)\n",
    "sol1  = odeint(dx_dt, xinit, t, args = (Da1,), rtol = 1e-8)"
   ]
  },
  {
   "cell_type": "code",
   "execution_count": 29,
   "metadata": {},
   "outputs": [
    {
     "data": {
      "text/plain": [
       "Text(0, 0.5, '$R$(in nm)')"
      ]
     },
     "execution_count": 29,
     "metadata": {},
     "output_type": "execute_result"
    },
    {
     "data": {
      "image/png": "[encoded data removed]",
      "text/plain": [
       "<Figure size 432x288 with 1 Axes>"
      ]
     },
     "metadata": {
      "needs_background": "light"
     },
     "output_type": "display_data"
    }
   ],
   "source": [
    "pl.plot(t * t0 / 60, sol1 * R0 / 1e-9, label = 'Numerical')\n",
    "pl.plot(data.T[0], data.T[1], 'ko', label = r'Data From $\\it{Peng\\,et\\,al.}$')\n",
    "pl.xlim(-5, 200)\n",
    "pl.legend()\n",
    "pl.xlabel('Time(in minutes)')\n",
    "pl.ylabel(r'$R$(in nm)')"
   ]
  },
  {
   "cell_type": "code",
   "execution_count": 33,
   "metadata": {},
   "outputs": [
    {
     "data": {
      "text/plain": [
       "-4.563474045697295e-20"
      ]
     },
     "execution_count": 33,
     "metadata": {},
     "output_type": "execute_result"
    }
   ],
   "source": [
    "dx_dt(xinit, 1, Da1)"
   ]
  },
  {
   "cell_type": "code",
   "execution_count": 11,
   "metadata": {},
   "outputs": [
    {
     "name": "stdout",
     "output_type": "stream",
     "text": [
      "3.01e-18\n",
      "7.97e-10\n",
      "0.0553\n",
      "8.04e+21\n",
      "\n",
      "23.692476270869143\n",
      "1.3252188645472844\n",
      "54.875974282836694\n",
      "1494.501970672384\n"
     ]
    }
   ],
   "source": [
    "print(D)\n",
    "print(k)\n",
    "print(cs)\n",
    "print(N0)\n",
    "print()\n",
    "print(beta)\n",
    "print(Da1)\n",
    "print(delta_C)\n",
    "print(t0)"
   ]
  },
  {
   "cell_type": "code",
   "execution_count": null,
   "metadata": {},
   "outputs": [],
   "source": []
  }
 ],
 "metadata": {
  "kernelspec": {
   "display_name": "Python 3",
   "language": "python",
   "name": "python3"
  },
  "language_info": {
   "codemirror_mode": {
    "name": "ipython",
    "version": 3
   },
   "file_extension": ".py",
   "mimetype": "text/x-python",
   "name": "python",
   "nbconvert_exporter": "python",
   "pygments_lexer": "ipython3",
   "version": "3.7.3"
  }
 },
 "nbformat": 4,
 "nbformat_minor": 2
}

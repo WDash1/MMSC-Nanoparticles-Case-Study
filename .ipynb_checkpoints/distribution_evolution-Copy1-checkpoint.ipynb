{
 "cells": [
  {
   "cell_type": "code",
   "execution_count": 320,
   "metadata": {},
   "outputs": [],
   "source": [
    "import numpy as np\n",
    "from scipy.integrate import odeint\n",
    "from scipy.integrate import solve_ivp\n",
    "from math import factorial\n",
    "import pylab as pl\n",
    "%matplotlib inline"
   ]
  },
  {
   "cell_type": "code",
   "execution_count": 321,
   "metadata": {},
   "outputs": [],
   "source": [
    "lcap = 6e-9\n",
    "num  = 2\n",
    "R0   = 0.5 * np.array([2.91384736, 1.61578203]) * 1e-10 #(1.6 + abs(np.random.randn(num))) * 1e-9\n",
    "cinf = 55.33\n",
    "cs   = 5.53e-2\n",
    "Vm   = 3.29e-5\n",
    "D    = 3.01e-18\n",
    "k    = 7.97e-10\n",
    "N0   = 8.04e21\n",
    "beta = 4 * np.pi * N0 * R0**3 / (3 * Vm)\n",
    "Da   = D/(k * R0)"
   ]
  },
  {
   "cell_type": "code",
   "execution_count": 305,
   "metadata": {},
   "outputs": [],
   "source": [
    "# Order of truncation for the exponential:\n",
    "n = 5"
   ]
  },
  {
   "cell_type": "code",
   "execution_count": 306,
   "metadata": {},
   "outputs": [],
   "source": [
    "delta_C = cinf - cs * np.exp(lcap/R0)\n",
    "minarg  = np.argmin(R0**2 / delta_C)\n",
    "t0      = (R0**2 / (Vm * D * delta_C))[minarg]"
   ]
  },
  {
   "cell_type": "code",
   "execution_count": 307,
   "metadata": {},
   "outputs": [],
   "source": [
    "def dR_dt(R, t):\n",
    "    # Identifies particles which are less than \n",
    "#     ind  = ((R * R0) / 1e-9 < 1.5)\n",
    "    nind    = np.arange(num) #np.invert(ind)\n",
    "    N       = np.where(nind)[0].size\n",
    "    csolute = cinf - np.sum(beta[nind] * R[nind]**3) / N\n",
    "    \n",
    "    dRdt       = np.zeros(num)\n",
    "    expapprox  = np.exp(lcap / (R0[nind] * R[nind]))\n",
    "    for i in range(1, n+1):\n",
    "        expapprox += 1 / factorial(i) * (lcap / (R0[nind] * R[nind]))**i\n",
    "\n",
    "    dRdt[nind] =   ((R0[minarg] / R0[nind])**2 / delta_C[minarg]) \\\n",
    "                 * (csolute - cs * expapprox)/(Da[nind] + R[nind])\n",
    "\n",
    "#     if(np.where(ind)[0].size > 1):\n",
    "#         print(np.where(ind)[0].size)\n",
    "#         print(dRdt.max())\n",
    "#         print(dRdt.min())\n",
    "    \n",
    "    return dRdt"
   ]
  },
  {
   "cell_type": "code",
   "execution_count": 314,
   "metadata": {},
   "outputs": [],
   "source": [
    "t = np.append(np.linspace(0, 20, 401)[:-1], np.linspace(20, 200, 301))\n",
    "tfinal = 10\n",
    "t = np.linspace(0, tfinal, 401)"
   ]
  },
  {
   "cell_type": "code",
   "execution_count": 315,
   "metadata": {},
   "outputs": [],
   "source": [
    "Rinit = np.ones(num)\n",
    "sol1  = odeint(dR_dt, Rinit, t, mxstep = 65536, rtol = 1e-8, full_output = 1)\n",
    "# sol = solve_ivp(dR_dt, Rinit, [0, tfinal], args = (Da1,))"
   ]
  },
  {
   "cell_type": "code",
   "execution_count": 316,
   "metadata": {},
   "outputs": [
    {
     "data": {
      "text/plain": [
       "'Integration successful.'"
      ]
     },
     "execution_count": 316,
     "metadata": {},
     "output_type": "execute_result"
    }
   ],
   "source": [
    "sol1[1]['message']"
   ]
  },
  {
   "cell_type": "code",
   "execution_count": 317,
   "metadata": {
    "scrolled": false
   },
   "outputs": [],
   "source": [
    "# for time_index, t0 in enumerate(t):\n",
    "#     print(time_index)\n",
    "#     pl.hist(R0 * sol1[0][time_index] / 1e-9, 50)\n",
    "#     pl.xlim([0.8, 7])\n",
    "#     pl.ylim([0, 4000])    \n",
    "#     pl.xlabel(r'Size(in nm)')\n",
    "#     pl.ylabel(r'$N$')\n",
    "#     pl.title('Time = %3.2f'%(t[time_index]) + r'$\\tau$')\n",
    "#     pl.savefig('images/%04d'%(time_index) + '.png', dpi = 50)\n",
    "#     pl.clf()"
   ]
  },
  {
   "cell_type": "code",
   "execution_count": 318,
   "metadata": {},
   "outputs": [],
   "source": [
    "# ind  = ((R0 * sol1[0][-1]) / 1e-9 < 1.5)\n",
    "# nind    = np.invert(ind)\n",
    "\n",
    "# pl.hist(R0 * sol1[0][0] / 1e-9)\n",
    "# pl.hist((R0 * sol1[0][-1])[nind] / 1e-9)"
   ]
  },
  {
   "cell_type": "code",
   "execution_count": 319,
   "metadata": {},
   "outputs": [
    {
     "data": {
      "text/plain": [
       "[<matplotlib.lines.Line2D at 0x7f1cbe833ef0>,\n",
       " <matplotlib.lines.Line2D at 0x7f1cbe83e080>]"
      ]
     },
     "execution_count": 319,
     "metadata": {},
     "output_type": "execute_result"
    },
    {
     "data": {
      "image/png": "[encoded data removed]",
      "text/plain": [
       "<Figure size 432x288 with 1 Axes>"
      ]
     },
     "metadata": {
      "needs_background": "light"
     },
     "output_type": "display_data"
    }
   ],
   "source": [
    "pl.plot(t, (R0 * sol1[0][:]) / 1e-9)\n",
    "# pl.plot(t, (R0 * sol5[0][:]) / 1e-9)"
   ]
  },
  {
   "cell_type": "code",
   "execution_count": 212,
   "metadata": {},
   "outputs": [
    {
     "data": {
      "text/plain": [
       "array([1.45692368, 0.80789102])"
      ]
     },
     "execution_count": 212,
     "metadata": {},
     "output_type": "execute_result"
    }
   ],
   "source": [
    "R0 / 1e-9"
   ]
  },
  {
   "cell_type": "code",
   "execution_count": 213,
   "metadata": {},
   "outputs": [
    {
     "data": {
      "text/plain": [
       "array([0.91260736, 0.91260736])"
      ]
     },
     "execution_count": 213,
     "metadata": {},
     "output_type": "execute_result"
    }
   ],
   "source": [
    "(R0 * sol1[0][-1]) / 1e-9"
   ]
  },
  {
   "cell_type": "code",
   "execution_count": null,
   "metadata": {},
   "outputs": [],
   "source": []
  }
 ],
 "metadata": {
  "kernelspec": {
   "display_name": "Python 3",
   "language": "python",
   "name": "python3"
  },
  "language_info": {
   "codemirror_mode": {
    "name": "ipython",
    "version": 3
   },
   "file_extension": ".py",
   "mimetype": "text/x-python",
   "name": "python",
   "nbconvert_exporter": "python",
   "pygments_lexer": "ipython3",
   "version": "3.7.3"
  }
 },
 "nbformat": 4,
 "nbformat_minor": 2
}

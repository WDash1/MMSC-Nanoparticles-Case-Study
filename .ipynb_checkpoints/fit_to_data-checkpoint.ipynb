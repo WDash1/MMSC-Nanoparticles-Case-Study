{
 "cells": [
  {
   "cell_type": "code",
   "execution_count": 10,
   "metadata": {},
   "outputs": [],
   "source": [
    "import numpy as np\n",
    "from scipy.integrate import odeint\n",
    "from scipy.interpolate import interp1d\n",
    "from scipy.optimize import minimize, root, curve_fit\n",
    "import pylab as pl\n",
    "%matplotlib inline"
   ]
  },
  {
   "cell_type": "code",
   "execution_count": 11,
   "metadata": {},
   "outputs": [],
   "source": [
    "# Data from the peng paper\n",
    "data = np.loadtxt('peng.txt', delimiter=',')"
   ]
  },
  {
   "cell_type": "code",
   "execution_count": 12,
   "metadata": {},
   "outputs": [],
   "source": [
    "# Picking the data before re-injection of solute:\n",
    "t_data = data.T[0][:11]\n",
    "r_data = data.T[1][:11]\n",
    "# Generating the fitted curve from data by interpolation:\n",
    "r_fit = interp1d(t_data, r_data, kind = 'slinear')"
   ]
  },
  {
   "cell_type": "code",
   "execution_count": 13,
   "metadata": {},
   "outputs": [],
   "source": [
    "lcap = 6e-9\n",
    "# Taking the value from fit at t = 0:\n",
    "R0   = r_fit(0) * 1e-9\n",
    "cinf = 55.33\n",
    "cs   = 5.53e-2\n",
    "Vm   = 3.29e-5"
   ]
  },
  {
   "cell_type": "code",
   "execution_count": 14,
   "metadata": {},
   "outputs": [],
   "source": [
    "def dR_dt(R, t, beta, Da, delta_C):\n",
    "    dRdt = (cinf - beta * R**3 - cs * np.exp(lcap / (R0 * R)))/(delta_C * (Da + R))\n",
    "    return dRdt"
   ]
  },
  {
   "cell_type": "code",
   "execution_count": 15,
   "metadata": {},
   "outputs": [],
   "source": [
    "def fit_parameters_minimize(x):\n",
    "    D  = x[0]\n",
    "    k  = x[1]\n",
    "    cs = x[2]\n",
    "    N0 = x[3]\n",
    "    \n",
    "    beta    = 4 * np.pi * N0 * R0**3 / (3 * Vm)\n",
    "    Da      = D/(k*R0)\n",
    "    delta_C = cinf - cs * np.exp(lcap/R0)\n",
    "    t0      = R0**2 / (Vm * D * delta_C)\n",
    "    \n",
    "    t   = np.linspace(0, t_data[-1], 1000)\n",
    "    sol = odeint(dR_dt, 1, 60 * t / t0, args = (beta, Da, delta_C), rtol = 1e-12)\n",
    "\n",
    "    return(np.mean((sol.ravel() * R0 / 1e-9 - r_fit(t))**2))"
   ]
  },
  {
   "cell_type": "code",
   "execution_count": 27,
   "metadata": {},
   "outputs": [
    {
     "name": "stdout",
     "output_type": "stream",
     "text": [
      "0.051414864061792305\n",
      "0.0023041818060397846\n"
     ]
    }
   ],
   "source": [
    "guess = np.array([1e-18, 1e-10, 1e-2, 1e21])\n",
    "guess2 = np.array([3.01e-18, 7.97e-10, 5.53e-2, 8.04e21])\n",
    "bnds  = ((1e-19, 1e-17), (1e-11, 1e-9), (1e-4, 1e-2), (1e20, 1e22))\n",
    "sol   = minimize(fit_parameters_minimize, guess, bounds = bnds)\n",
    "\n",
    "print(fit_parameters_minimize(sol.x))\n",
    "print(fit_parameters_minimize(guess2))"
   ]
  },
  {
   "cell_type": "code",
   "execution_count": 28,
   "metadata": {},
   "outputs": [
    {
     "data": {
      "text/plain": [
       "array([1.e-18, 1.e-10, 1.e-02, 1.e+21])"
      ]
     },
     "execution_count": 28,
     "metadata": {},
     "output_type": "execute_result"
    }
   ],
   "source": [
    "sol.x"
   ]
  },
  {
   "cell_type": "code",
   "execution_count": 49,
   "metadata": {},
   "outputs": [],
   "source": [
    "def fit_parameters_root(x):\n",
    "    D  = abs(x[0])\n",
    "    k  = abs(x[1])\n",
    "    cs = abs(x[2])\n",
    "    N0 = abs(x[3])\n",
    "    \n",
    "    bnds = ((1e-19, 1e-17), (1e-11, 1e-9), (1e-4, 1e-2), (1e20, 1e22))\n",
    "    if(D > 1e-17 or D < 1e-19):\n",
    "        return(100000 * np.ones(1000))\n",
    "    if(k > 1e-9 or k < 1e-11):\n",
    "        return(100000 * np.ones(1000))\n",
    "    if(cs > 1e-1 or cs < 1e-3):\n",
    "        return(100000 * np.ones(1000))\n",
    "    if(N0 > 1e22 or N0 < 1e20):\n",
    "        return(100000 * np.ones(1000))\n",
    "    \n",
    "        \n",
    "    beta    = 4 * np.pi * N0 * R0**3 / (3 * Vm)\n",
    "    Da      = D/(k*R0)\n",
    "    delta_C = cinf - cs * np.exp(lcap/R0)\n",
    "    t0      = R0**2 / (Vm * D * delta_C)\n",
    "    \n",
    "    t   = np.linspace(0, t_data[-1], 1000)\n",
    "    sol = odeint(dR_dt, 1, 60 * t / t0, args = (beta, Da, delta_C), rtol = 1e-12)\n",
    "    \n",
    "#     pl.plot(t, sol.ravel() * R0 / 1e-9)\n",
    "#     pl.plot(t, r_fit(t), 'k--')\n",
    "#     pl.show()\n",
    "    \n",
    "    return((sol.ravel() * R0 / 1e-9 - r_fit(t))**2)"
   ]
  },
  {
   "cell_type": "code",
   "execution_count": 55,
   "metadata": {},
   "outputs": [],
   "source": [
    "guess = np.array([3e-18, 8e-10, 5e-2, 8e21])\n",
    "sol   = root(fit_parameters_root, guess, method = 'lm')"
   ]
  },
  {
   "cell_type": "code",
   "execution_count": 56,
   "metadata": {},
   "outputs": [
    {
     "name": "stdout",
     "output_type": "stream",
     "text": [
      "2.4021903289124307\n",
      "2.3041818060397845\n"
     ]
    }
   ],
   "source": [
    "print(np.sum(fit_parameters_root(sol.x)))\n",
    "print(np.sum(fit_parameters_root(np.array([3.01e-18, 7.97e-10, 5.53e-2, 8.04e21]))))"
   ]
  },
  {
   "cell_type": "code",
   "execution_count": 57,
   "metadata": {},
   "outputs": [
    {
     "ename": "NameError",
     "evalue": "name 't' is not defined",
     "output_type": "error",
     "traceback": [
      "\u001b[0;31m---------------------------------------------------------------------------\u001b[0m",
      "\u001b[0;31mNameError\u001b[0m                                 Traceback (most recent call last)",
      "\u001b[0;32m<ipython-input-57-078f239c6d26>\u001b[0m in \u001b[0;36m<module>\u001b[0;34m\u001b[0m\n\u001b[1;32m      9\u001b[0m \u001b[0mt0\u001b[0m      \u001b[0;34m=\u001b[0m \u001b[0mR0\u001b[0m\u001b[0;34m**\u001b[0m\u001b[0;36m2\u001b[0m \u001b[0;34m/\u001b[0m \u001b[0;34m(\u001b[0m\u001b[0mVm\u001b[0m \u001b[0;34m*\u001b[0m \u001b[0mD\u001b[0m \u001b[0;34m*\u001b[0m \u001b[0mdelta_C\u001b[0m\u001b[0;34m)\u001b[0m\u001b[0;34m\u001b[0m\u001b[0;34m\u001b[0m\u001b[0m\n\u001b[1;32m     10\u001b[0m \u001b[0;34m\u001b[0m\u001b[0m\n\u001b[0;32m---> 11\u001b[0;31m \u001b[0msol\u001b[0m \u001b[0;34m=\u001b[0m \u001b[0modeint\u001b[0m\u001b[0;34m(\u001b[0m\u001b[0mdR_dt\u001b[0m\u001b[0;34m,\u001b[0m \u001b[0;36m1\u001b[0m\u001b[0;34m,\u001b[0m \u001b[0;36m60\u001b[0m \u001b[0;34m*\u001b[0m \u001b[0mt\u001b[0m \u001b[0;34m/\u001b[0m \u001b[0mt0\u001b[0m\u001b[0;34m,\u001b[0m \u001b[0margs\u001b[0m \u001b[0;34m=\u001b[0m \u001b[0;34m(\u001b[0m\u001b[0mbeta\u001b[0m\u001b[0;34m,\u001b[0m \u001b[0mDa\u001b[0m\u001b[0;34m,\u001b[0m \u001b[0mdelta_C\u001b[0m\u001b[0;34m)\u001b[0m\u001b[0;34m,\u001b[0m \u001b[0mrtol\u001b[0m \u001b[0;34m=\u001b[0m \u001b[0;36m1e-12\u001b[0m\u001b[0;34m)\u001b[0m\u001b[0;34m\u001b[0m\u001b[0;34m\u001b[0m\u001b[0m\n\u001b[0m",
      "\u001b[0;31mNameError\u001b[0m: name 't' is not defined"
     ]
    }
   ],
   "source": [
    "D  = sol.x[0]\n",
    "k  = sol.x[1]\n",
    "cs = sol.x[2]\n",
    "N0 = sol.x[3]\n",
    "\n",
    "beta    = 4 * np.pi * N0 * R0**3 / (3 * Vm)\n",
    "Da      = D/(k*R0)\n",
    "delta_C = cinf - cs * np.exp(lcap/R0)\n",
    "t0      = R0**2 / (Vm * D * delta_C)\n",
    "\n",
    "sol = odeint(dR_dt, 1, 60 * t / t0, args = (beta, Da, delta_C), rtol = 1e-12)"
   ]
  },
  {
   "cell_type": "code",
   "execution_count": 241,
   "metadata": {},
   "outputs": [
    {
     "data": {
      "text/plain": [
       "Text(0, 0.5, '$R$(in nm)')"
      ]
     },
     "execution_count": 241,
     "metadata": {},
     "output_type": "execute_result"
    },
    {
     "data": {
      "image/png": "[encoded data removed]",
      "text/plain": [
       "<Figure size 432x288 with 1 Axes>"
      ]
     },
     "metadata": {
      "needs_background": "light"
     },
     "output_type": "display_data"
    }
   ],
   "source": [
    "t = np.linspace(0, t_data[-1], 50)\n",
    "pl.plot(t, sol * R0 / 1e-9, label = 'Numerical')\n",
    "pl.plot(t_data, r_data, 'ko', label = r'Data From $\\it{Peng\\,et\\,al.}$')\n",
    "pl.xlim(-5, 200)\n",
    "pl.legend()\n",
    "pl.xlabel('Time(in minutes)')\n",
    "pl.ylabel(r'$R$(in nm)')"
   ]
  },
  {
   "cell_type": "code",
   "execution_count": 83,
   "metadata": {},
   "outputs": [],
   "source": [
    "def fit_parameters_curvefit(t, D, k, cs, N0):\n",
    "#     if(D > 10 or D < 0.1):\n",
    "#         return(100000 * np.ones(50))\n",
    "#     if(k > 10 or k < 0.1):\n",
    "#         return(100000 * np.ones(50))\n",
    "#     if(cs > 10 or cs < 0.1):\n",
    "#         return(100000 * np.ones(50))\n",
    "#     if(N0 > 10 or N0 < 0.1):\n",
    "#         return(100000 * np.ones(50))\n",
    "\n",
    "    D  = D  * 1e-18\n",
    "    k  = k  * 1e-10\n",
    "    cs = cs * 1e-3\n",
    "    N0 = N0 * 1e21\n",
    "    \n",
    "    beta    = 4 * np.pi * N0 * R0**3 / (3 * Vm)\n",
    "    Da      = D/(k*R0)\n",
    "    delta_C = cinf - cs * np.exp(lcap/R0)\n",
    "    t0      = R0**2 / (Vm * D * delta_C)\n",
    "    \n",
    "    sol = odeint(dR_dt, 1, 60 * t / t0, args = (beta, Da, delta_C), rtol = 1e-12)\n",
    "    return(sol.ravel() * R0 / 1e-9)"
   ]
  },
  {
   "cell_type": "code",
   "execution_count": 84,
   "metadata": {},
   "outputs": [],
   "source": [
    "t = np.linspace(0, t_data[-1], 50)\n",
    "# bnds  = ((0.1, 10), (0.1, 10), (0.1, 10), (0.1, 10))\n",
    "popt, pcov = curve_fit(fit_parameters_curvefit, t, r_fit(t), bounds = (1, 10))"
   ]
  },
  {
   "cell_type": "code",
   "execution_count": 85,
   "metadata": {},
   "outputs": [],
   "source": [
    "# pl.plot(t * t0 / 60, sol1 * R0 / 1e-9, label = 'Numerical')\n",
    "# pl.plot(data.T[0], data.T[1], 'ko', label = r'Data From $\\it{Peng\\,et\\,al.}$')\n",
    "# pl.xlim(-5, 200)\n",
    "# pl.legend()\n",
    "# pl.xlabel('Time(in minutes)')\n",
    "# pl.ylabel(r'$R$(in nm)')"
   ]
  },
  {
   "cell_type": "code",
   "execution_count": 86,
   "metadata": {},
   "outputs": [
    {
     "data": {
      "text/plain": [
       "array([2.39546803e-18, 1.00000000e-09, 3.65970469e-02, 8.13663552e+21])"
      ]
     },
     "execution_count": 86,
     "metadata": {},
     "output_type": "execute_result"
    }
   ],
   "source": [
    "popt * np.array([1e-18, 1e-10, 1e-2, 1e21])"
   ]
  },
  {
   "cell_type": "code",
   "execution_count": 87,
   "metadata": {},
   "outputs": [
    {
     "data": {
      "text/plain": [
       "array([3.01e-18, 7.97e-10, 5.53e-02, 8.04e+21])"
      ]
     },
     "execution_count": 87,
     "metadata": {},
     "output_type": "execute_result"
    }
   ],
   "source": [
    "np.array([3.01e-18, 7.97e-10, 5.53e-2, 8.04e21])"
   ]
  },
  {
   "cell_type": "code",
   "execution_count": 88,
   "metadata": {},
   "outputs": [],
   "source": [
    "curve_fit?"
   ]
  },
  {
   "cell_type": "code",
   "execution_count": 89,
   "metadata": {},
   "outputs": [
    {
     "data": {
      "text/plain": [
       "0.002424226143264079"
      ]
     },
     "execution_count": 89,
     "metadata": {},
     "output_type": "execute_result"
    }
   ],
   "source": [
    "fit_parameters_minimize(np.array([3.01e-18, 7.97e-10, 5.53e-2, 8.04e21]))"
   ]
  },
  {
   "cell_type": "code",
   "execution_count": 90,
   "metadata": {},
   "outputs": [
    {
     "data": {
      "text/plain": [
       "0.0021624544289396233"
      ]
     },
     "execution_count": 90,
     "metadata": {},
     "output_type": "execute_result"
    }
   ],
   "source": [
    "fit_parameters_minimize(popt * np.array([1e-18, 1e-10, 1e-2, 1e21]))"
   ]
  },
  {
   "cell_type": "code",
   "execution_count": null,
   "metadata": {},
   "outputs": [],
   "source": []
  }
 ],
 "metadata": {
  "kernelspec": {
   "display_name": "Python 3",
   "language": "python",
   "name": "python3"
  },
  "language_info": {
   "codemirror_mode": {
    "name": "ipython",
    "version": 3
   },
   "file_extension": ".py",
   "mimetype": "text/x-python",
   "name": "python",
   "nbconvert_exporter": "python",
   "pygments_lexer": "ipython3",
   "version": "3.7.3"
  }
 },
 "nbformat": 4,
 "nbformat_minor": 2
}

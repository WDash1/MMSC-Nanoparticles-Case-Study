{
 "cells": [
  {
   "cell_type": "code",
   "execution_count": 48,
   "metadata": {},
   "outputs": [],
   "source": [
    "import numpy as np\n",
    "from scipy.integrate import odeint\n",
    "import pylab as pl\n",
    "%matplotlib inline"
   ]
  },
  {
   "cell_type": "code",
   "execution_count": 3,
   "metadata": {},
   "outputs": [],
   "source": [
    "lcap = 6e-9\n",
    "num  = 50000\n",
    "R0   = (1 + abs(np.random.randn(num))) * 1e-9\n",
    "cinf = 55.33\n",
    "cs   = 5.53e-2\n",
    "Vm   = 3.29e-5\n",
    "D    = 3.01e-18\n",
    "k    = 7.97e-10\n",
    "N0   = 8.04e21\n",
    "beta = 4 * np.pi * N0 * R0**3 / (3 * Vm)\n",
    "Da1  = D/(k * R0)"
   ]
  },
  {
   "cell_type": "code",
   "execution_count": 4,
   "metadata": {},
   "outputs": [],
   "source": [
    "delta_C = cinf - cs * np.exp(lcap/R0)\n",
    "minarg  = np.argmin(R0**2 / delta_C)\n",
    "t0      = (R0**2 / (Vm * D * delta_C))[minarg]"
   ]
  },
  {
   "cell_type": "code",
   "execution_count": 5,
   "metadata": {},
   "outputs": [],
   "source": [
    "def dR_dt(R, t, Da):\n",
    "    dRdt =   ((R0[minarg] / R0)**2 / delta_C[minarg]) \\\n",
    "           * (cinf - np.sum(beta * R**3) / num - cs * np.exp(lcap / (R0 * R)))/(Da + R)\n",
    "    return dRdt"
   ]
  },
  {
   "cell_type": "code",
   "execution_count": 128,
   "metadata": {},
   "outputs": [],
   "source": [
    "t = np.append(np.linspace(0, 20, 401)[:-1], np.linspace(20, 950, 301))"
   ]
  },
  {
   "cell_type": "code",
   "execution_count": 129,
   "metadata": {},
   "outputs": [],
   "source": [
    "Rinit = np.ones(num)\n",
    "sol1  = odeint(dR_dt, Rinit, t, args = (Da1,), rtol = 1e-8, full_output = 1)"
   ]
  },
  {
   "cell_type": "code",
   "execution_count": 130,
   "metadata": {},
   "outputs": [
    {
     "data": {
      "text/plain": [
       "'Integration successful.'"
      ]
     },
     "execution_count": 130,
     "metadata": {},
     "output_type": "execute_result"
    }
   ],
   "source": [
    "sol1[1]['message']"
   ]
  },
  {
   "cell_type": "code",
   "execution_count": 69,
   "metadata": {},
   "outputs": [
    {
     "data": {
      "text/plain": [
       "<Figure size 900x400 with 0 Axes>"
      ]
     },
     "metadata": {},
     "output_type": "display_data"
    }
   ],
   "source": [
    "for time_index, t0 in enumerate(t):\n",
    "    pl.hist(R0 * sol1[0][time_index] / 1e-9, 50)\n",
    "    pl.xlim([0.8, 7])\n",
    "    pl.ylim([0, 4000])    \n",
    "    pl.xlabel(r'Size(in nm)')\n",
    "    pl.ylabel(r'$N$')\n",
    "    pl.title('Time = %3.2f'%(t[time_index]) + r'$\\tau$')\n",
    "    pl.savefig('images/%04d'%(time_index) + '.png', bbox_inches = 'tight')\n",
    "    pl.clf()"
   ]
  },
  {
   "cell_type": "code",
   "execution_count": null,
   "metadata": {},
   "outputs": [],
   "source": []
  }
 ],
 "metadata": {
  "kernelspec": {
   "display_name": "Python 3",
   "language": "python",
   "name": "python3"
  },
  "language_info": {
   "codemirror_mode": {
    "name": "ipython",
    "version": 3
   },
   "file_extension": ".py",
   "mimetype": "text/x-python",
   "name": "python",
   "nbconvert_exporter": "python",
   "pygments_lexer": "ipython3",
   "version": "3.7.3"
  }
 },
 "nbformat": 4,
 "nbformat_minor": 2
}

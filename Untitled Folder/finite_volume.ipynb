{
 "cells": [
  {
   "cell_type": "code",
   "execution_count": 1,
   "metadata": {},
   "outputs": [],
   "source": [
    "import numpy as np\n",
    "import pylab as pl\n",
    "%matplotlib inline"
   ]
  },
  {
   "cell_type": "code",
   "execution_count": 2,
   "metadata": {},
   "outputs": [],
   "source": [
    "lcap  = 6e-9\n",
    "cinf0 = 55.33\n",
    "cinfu = cinf0\n",
    "\n",
    "cs   = 5.53e-2\n",
    "Vm   = 3.29e-5\n",
    "D    = 3.01e-18\n",
    "k    = 7.97e-10\n",
    "N0   = 8.04e21\n",
    "R0   = 3e-9\n",
    "beta = 4 * np.pi * N0 / (3 * Vm)\n",
    "Da   = D/(k * R0)\n",
    "\n",
    "delta_C = cinf0 - cs * np.exp(lcap/R0)\n",
    "t0 = (R0**2 / (Vm * D * delta_C))"
   ]
  },
  {
   "cell_type": "code",
   "execution_count": 3,
   "metadata": {},
   "outputs": [],
   "source": [
    "r_min = 0.1\n",
    "r_max = 5\n",
    "N_r   = 256\n",
    "N_g   = 3\n",
    "dr    = (r_max - r_min) / N_r\n",
    "\n",
    "r  = r_min + (0.5 + np.arange(-N_g, N_r + N_g)) * dr\n",
    "f0 = 10 * np.sqrt(0.5/np.pi) * np.exp(-50 * (r - 1)**2)"
   ]
  },
  {
   "cell_type": "code",
   "execution_count": 4,
   "metadata": {},
   "outputs": [],
   "source": [
    "def minmod(x, y, z):\n",
    "\n",
    "    min_of_all = np.minimum(np.minimum(abs(x), abs(y)), abs(z))\n",
    "\n",
    "    signx = np.sign(x)\n",
    "    signy = np.sign(y)\n",
    "    signz = np.sign(z)\n",
    "    \n",
    "    result = 0.25 * abs(signx + signy) * (signx + signz) * min_of_all\n",
    "    return result\n",
    "\n",
    "def slope_minmod(input_array):\n",
    "    \"\"\"\n",
    "    Reconstructs the input array using a \n",
    "    minmod limiter.\n",
    "\n",
    "    Parameters\n",
    "    ----------\n",
    "    \n",
    "    input_array: np.array\n",
    "                 Array holding the cells data.\n",
    "    \"\"\"\n",
    "    f_i_plus_one  = np.roll(input_array, -1)\n",
    "    f_i_minus_one = np.roll(input_array,  1)\n",
    "  \n",
    "    forward_diff  = (f_i_plus_one - input_array  )\n",
    "    backward_diff = (input_array  - f_i_minus_one)\n",
    "    central_diff  = backward_diff + forward_diff\n",
    "\n",
    "    # Sort of user controlled:\n",
    "    slope_lim_theta = 2\n",
    "\n",
    "    left   = slope_lim_theta * backward_diff\n",
    "    center = 0.5 * central_diff\n",
    "    right  = slope_lim_theta * forward_diff\n",
    "\n",
    "    return(minmod(left, center, right))\n",
    "\n",
    "def reconstruct_minmod(variable_to_reconstruct):\n",
    "    \n",
    "    slope = slope_minmod(variable_to_reconstruct)\n",
    "\n",
    "    left_face_value  = variable_to_reconstruct - 0.5 * slope\n",
    "    right_face_value = variable_to_reconstruct + 0.5 * slope\n",
    "   \n",
    "    return(left_face_value, right_face_value)"
   ]
  },
  {
   "cell_type": "code",
   "execution_count": 5,
   "metadata": {},
   "outputs": [],
   "source": [
    "def riemann_solver(left_state, right_state, velocity):\n",
    "    upwind_state = np.select([velocity >= 0, velocity < 0], \n",
    "                             [left_state, right_state]\n",
    "                            )\n",
    "    return upwind_state"
   ]
  },
  {
   "cell_type": "code",
   "execution_count": 6,
   "metadata": {},
   "outputs": [],
   "source": [
    "def df_dt(f, t):\n",
    "    cinfu   = cinf0 + beta * R0**3 * np.sum(f[:N_g] * r[:N_g]**3) * dr\n",
    "    f[:N_g] = 0\n",
    "    if(np.sum(f[-N_g:] * r[-N_g:]**3) * dr > 1e-8):\n",
    "        raise Exception('Increase r_max!')\n",
    "    \n",
    "    f_left_plus_eps, f_right_minus_eps = reconstruct_minmod(f)\n",
    "    f_left_minus_eps = np.roll(f_right_minus_eps, 1)\n",
    "\n",
    "    cinf     = cinfu - beta * R0**3 * np.sum(f[N_g:-N_g] * r[N_g:-N_g]**3) * dr\n",
    "    velocity = (cinf - cs * np.exp(lcap / (R0 * r))) / (delta_C * (Da + r))\n",
    "    f_left   = riemann_solver(f_left_minus_eps, \n",
    "                              f_left_plus_eps, \n",
    "                              velocity\n",
    "                             )\n",
    "    \n",
    "    left_flux  = velocity * f_left\n",
    "    right_flux = np.roll(left_flux, -1)\n",
    "    \n",
    "    df_dt = -(right_flux - left_flux) / dr\n",
    "    return df_dt"
   ]
  },
  {
   "cell_type": "code",
   "execution_count": 7,
   "metadata": {},
   "outputs": [],
   "source": [
    "def RK2(df_dt, f_initial, dt):\n",
    "    f = f_initial + df_dt(f_initial) * (dt / 2)\n",
    "    f = f_initial + df_dt(f) * dt\n",
    "    return(f)\n",
    "\n",
    "def RK4(df_dt, f_initial, dt):\n",
    "\n",
    "    k1 = df_dt(f_initial)\n",
    "    f  = f_initial + 0.5 * k1 * dt\n",
    "    k2 = df_dt(f)\n",
    "    f  = f_initial + 0.5 * k2 * dt\n",
    "    k3 = df_dt(f)\n",
    "    f  = f_initial + k3 * dt\n",
    "    k4 = df_dt(f)\n",
    "\n",
    "    f = f_initial + ((k1 + 2 * k2 + 2 * k3 + k4) / 6) * dt\n",
    "    return(f)"
   ]
  },
  {
   "cell_type": "code",
   "execution_count": 9,
   "metadata": {},
   "outputs": [],
   "source": [
    "t  = np.linspace(0, 1, 1000)\n",
    "# dt = t[1] - t[0]\n",
    "\n",
    "from scipy.integrate import odeint"
   ]
  },
  {
   "cell_type": "code",
   "execution_count": 12,
   "metadata": {},
   "outputs": [],
   "source": [
    "sol = odeint(df_dt, f0, t, full_output=1)"
   ]
  },
  {
   "cell_type": "code",
   "execution_count": 20,
   "metadata": {},
   "outputs": [],
   "source": [
    "sol[1]['message'] = '1'"
   ]
  },
  {
   "cell_type": "code",
   "execution_count": 21,
   "metadata": {},
   "outputs": [
    {
     "name": "stdout",
     "output_type": "stream",
     "text": [
      "False\n"
     ]
    }
   ],
   "source": [
    "print(sol[1]['message'] == 'Integration successful.')"
   ]
  },
  {
   "cell_type": "code",
   "execution_count": 77,
   "metadata": {},
   "outputs": [
    {
     "data": {
      "text/plain": [
       "[<matplotlib.lines.Line2D at 0x7f067b3a7eb8>]"
      ]
     },
     "execution_count": 77,
     "metadata": {},
     "output_type": "execute_result"
    },
    {
     "data": {
      "image/png": "[encoded data removed]",
      "text/plain": [
       "<Figure size 432x288 with 1 Axes>"
      ]
     },
     "metadata": {
      "needs_background": "light"
     },
     "output_type": "display_data"
    }
   ],
   "source": [
    "pl.plot(r, sol[0])\n",
    "pl.plot(r, sol[-1])\n"
   ]
  },
  {
   "cell_type": "code",
   "execution_count": 22,
   "metadata": {},
   "outputs": [],
   "source": [
    "import h5py"
   ]
  },
  {
   "cell_type": "code",
   "execution_count": 23,
   "metadata": {},
   "outputs": [],
   "source": [
    "h5py = h5py.File('test.h5', 'w')"
   ]
  },
  {
   "cell_type": "code",
   "execution_count": null,
   "metadata": {},
   "outputs": [],
   "source": [
    "h5py.cre"
   ]
  }
 ],
 "metadata": {
  "kernelspec": {
   "display_name": "Python 3",
   "language": "python",
   "name": "python3"
  },
  "language_info": {
   "codemirror_mode": {
    "name": "ipython",
    "version": 3
   },
   "file_extension": ".py",
   "mimetype": "text/x-python",
   "name": "python",
   "nbconvert_exporter": "python",
   "pygments_lexer": "ipython3",
   "version": "3.7.3"
  }
 },
 "nbformat": 4,
 "nbformat_minor": 2
}

{
 "cells": [
  {
   "cell_type": "code",
   "execution_count": 78,
   "metadata": {},
   "outputs": [],
   "source": [
    "import numpy as np\n",
    "from scipy.special import erfinv\n",
    "from scipy.integrate import Radau\n",
    "import pylab as pl\n",
    "%matplotlib inline"
   ]
  },
  {
   "cell_type": "code",
   "execution_count": 79,
   "metadata": {},
   "outputs": [],
   "source": [
    "lcap  = 6e-9\n",
    "cinf0 = 55.33\n",
    "cinfu = cinf0\n",
    "\n",
    "cs   = 5.53e-2\n",
    "Vm   = 3.29e-5\n",
    "D    = 3.01e-18\n",
    "k    = 7.97e-10\n",
    "N0   = 8.04e21\n",
    "R0   = 3e-9\n",
    "beta = 4 * np.pi * N0 / (3 * Vm)\n",
    "Da   = D/(k * R0)\n",
    "\n",
    "delta_C = cinf0 - cs * np.exp(lcap/R0)\n",
    "t0 = (R0**2 / (Vm * D * delta_C))"
   ]
  },
  {
   "cell_type": "code",
   "execution_count": 80,
   "metadata": {},
   "outputs": [],
   "source": [
    "# Number of particles that we are sampling:\n",
    "num = 10000\n",
    "R   = 1 + (np.sqrt(2) / 10) * erfinv(2 * np.random.rand(num) - 1)"
   ]
  },
  {
   "cell_type": "code",
   "execution_count": 81,
   "metadata": {},
   "outputs": [],
   "source": [
    "def dR_dt(t, R):\n",
    "    dRdt = (cinf - beta * np.sum((R0 * R)**3)/R.size - cs * np.exp(lcap / (R0 * R)))/(delta_C * (Da + R))\n",
    "    return dRdt"
   ]
  },
  {
   "cell_type": "code",
   "execution_count": 82,
   "metadata": {},
   "outputs": [],
   "source": [
    "t = np.linspace(0, 50, 1000)"
   ]
  },
  {
   "cell_type": "code",
   "execution_count": 84,
   "metadata": {},
   "outputs": [],
   "source": [
    "sol = Radau(dR_dt, 0, R, 50)"
   ]
  },
  {
   "cell_type": "code",
   "execution_count": 58,
   "metadata": {},
   "outputs": [
    {
     "data": {
      "text/plain": [
       "(array([  1.,   0.,   3.,   1.,   1.,   3.,   7.,  14.,   7.,  16.,  35.,\n",
       "         39.,  56.,  71., 114., 143., 196., 234., 285., 374., 432., 492.,\n",
       "        547., 616., 667., 636., 672., 661., 644., 566., 499., 431., 383.,\n",
       "        303., 262., 186., 141.,  90.,  71.,  35.,  28.,  17.,   8.,   8.,\n",
       "          3.,   0.,   1.,   0.,   0.,   1.]),\n",
       " array([0.79961619, 0.81700719, 0.83439818, 0.85178918, 0.86918017,\n",
       "        0.88657117, 0.90396217, 0.92135316, 0.93874416, 0.95613515,\n",
       "        0.97352615, 0.99091715, 1.00830814, 1.02569914, 1.04309013,\n",
       "        1.06048113, 1.07787212, 1.09526312, 1.11265412, 1.13004511,\n",
       "        1.14743611, 1.1648271 , 1.1822181 , 1.1996091 , 1.21700009,\n",
       "        1.23439109, 1.25178208, 1.26917308, 1.28656407, 1.30395507,\n",
       "        1.32134607, 1.33873706, 1.35612806, 1.37351905, 1.39091005,\n",
       "        1.40830105, 1.42569204, 1.44308304, 1.46047403, 1.47786503,\n",
       "        1.49525602, 1.51264702, 1.53003802, 1.54742901, 1.56482001,\n",
       "        1.582211  , 1.599602  , 1.616993  , 1.63438399, 1.65177499,\n",
       "        1.66916598]),\n",
       " <a list of 50 Patch objects>)"
      ]
     },
     "execution_count": 58,
     "metadata": {},
     "output_type": "execute_result"
    },
    {
     "data": {
      "image/png": "[encoded data removed]",
      "text/plain": [
       "<Figure size 432x288 with 1 Axes>"
      ]
     },
     "metadata": {
      "needs_background": "light"
     },
     "output_type": "display_data"
    }
   ],
   "source": [
    "pl.hist(sol[0], 50)\n",
    "pl.hist(sol[-1], 50)"
   ]
  },
  {
   "cell_type": "code",
   "execution_count": null,
   "metadata": {},
   "outputs": [],
   "source": [
    "sol.step()"
   ]
  },
  {
   "cell_type": "code",
   "execution_count": 148,
   "metadata": {},
   "outputs": [
    {
     "data": {
      "text/plain": [
       "(array([6.05093876e-03, 0.00000000e+00, 3.02546938e-03, 0.00000000e+00,\n",
       "        0.00000000e+00, 0.00000000e+00, 0.00000000e+00, 3.02546938e-03,\n",
       "        1.81528163e-02, 3.93311019e-02, 6.95857957e-02, 6.65603263e-02,\n",
       "        1.36146122e-01, 2.87419591e-01, 4.93151509e-01, 6.95857957e-01,\n",
       "        1.20111134e+00, 1.76687412e+00, 2.36591705e+00, 3.15859003e+00,\n",
       "        3.61241044e+00, 3.77276032e+00, 3.50046807e+00, 2.97101093e+00,\n",
       "        2.37196799e+00, 1.59744783e+00, 1.04681241e+00, 5.80890121e-01,\n",
       "        2.78343183e-01, 1.48248000e-01, 4.84075101e-02, 1.51273469e-02]),\n",
       " array([0.54731899, 0.58037172, 0.61342444, 0.64647716, 0.67952988,\n",
       "        0.71258261, 0.74563533, 0.77868805, 0.81174078, 0.8447935 ,\n",
       "        0.87784622, 0.91089894, 0.94395167, 0.97700439, 1.01005711,\n",
       "        1.04310983, 1.07616256, 1.10921528, 1.142268  , 1.17532072,\n",
       "        1.20837345, 1.24142617, 1.27447889, 1.30753161, 1.34058434,\n",
       "        1.37363706, 1.40668978, 1.4397425 , 1.47279523, 1.50584795,\n",
       "        1.53890067, 1.57195339, 1.60500612]),\n",
       " <a list of 32 Patch objects>)"
      ]
     },
     "execution_count": 148,
     "metadata": {},
     "output_type": "execute_result"
    },
    {
     "data": {
      "image/png": "[encoded data removed]",
      "text/plain": [
       "<Figure size 432x288 with 1 Axes>"
      ]
     },
     "metadata": {
      "needs_background": "light"
     },
     "output_type": "display_data"
    }
   ],
   "source": [
    "pl.hist(R, 32, density = True)\n",
    "pl.hist(sol.y, 32, density = True)"
   ]
  },
  {
   "cell_type": "code",
   "execution_count": 142,
   "metadata": {},
   "outputs": [
    {
     "data": {
      "text/plain": [
       "68.98570636221251"
      ]
     },
     "execution_count": 142,
     "metadata": {},
     "output_type": "execute_result"
    }
   ],
   "source": [
    "sol.t"
   ]
  },
  {
   "cell_type": "code",
   "execution_count": null,
   "metadata": {},
   "outputs": [],
   "source": []
  }
 ],
 "metadata": {
  "kernelspec": {
   "display_name": "Python 3",
   "language": "python",
   "name": "python3"
  },
  "language_info": {
   "codemirror_mode": {
    "name": "ipython",
    "version": 3
   },
   "file_extension": ".py",
   "mimetype": "text/x-python",
   "name": "python",
   "nbconvert_exporter": "python",
   "pygments_lexer": "ipython3",
   "version": "3.7.3"
  }
 },
 "nbformat": 4,
 "nbformat_minor": 2
}

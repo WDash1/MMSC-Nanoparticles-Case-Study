{
 "cells": [
  {
   "cell_type": "code",
   "execution_count": 6,
   "metadata": {},
   "outputs": [],
   "source": [
    "import numpy as np\n",
    "from scipy.integrate import odeint\n",
    "from math import factorial\n",
    "import pylab as pl\n",
    "%matplotlib inline"
   ]
  },
  {
   "cell_type": "code",
   "execution_count": 10,
   "metadata": {},
   "outputs": [],
   "source": [
    "lcap = 6e-9\n",
    "num  = 1\n",
    "cinf = 55.33\n",
    "cs   = 5.53e-2\n",
    "Vm   = 3.29e-5\n",
    "D    = 3.01e-18\n",
    "k    = 7.97e-10\n",
    "N0   = 8.04e21\n",
    "\n",
    "# Number of terms after which we truncate our expansion:\n",
    "n = 2\n",
    "\n",
    "R0   = np.array([2.84984057e-09]) #(1.6 + abs(np.random.randn(num))) * 1e-9\n",
    "Rinit = np.ones(num)\n",
    "xinit = (Rinit * R0)**(n+1)\n",
    "beta = 4 * np.pi * N0 * R0**3 / (3 * Vm)\n",
    "Da1  = D/(k * R0)"
   ]
  },
  {
   "cell_type": "code",
   "execution_count": 11,
   "metadata": {},
   "outputs": [],
   "source": [
    "delta_C = cinf - cs * np.exp(lcap/R0)\n",
    "minarg  = np.argmin(R0**2 / delta_C)\n",
    "t0      = (R0**2 / (Vm * D * delta_C))[minarg]\n",
    "\n",
    "kappa = ((R0[minarg] / R0)**2 / delta_C[minarg])"
   ]
  },
  {
   "cell_type": "code",
   "execution_count": 15,
   "metadata": {},
   "outputs": [],
   "source": [
    "def dx_dt(x, t, Da):\n",
    "    # Identifies particles which are less than\n",
    "    csolute = cinf - np.sum(beta * (x**(1/(n+1))/R0)**3) / num\n",
    "    expapprox = x**(n/n+1)\n",
    "    for i in range(1, n+1):\n",
    "        expapprox += lcap**i / factorial(i) * x**((n-i)/(n+1))\n",
    "    dxdt = (n+1) * kappa * (csolute * x**(n/n+1) - cs * expapprox)/(Da + (x**(1/(n+1))/R0))\n",
    "\n",
    "    return dxdt"
   ]
  },
  {
   "cell_type": "code",
   "execution_count": 16,
   "metadata": {},
   "outputs": [],
   "source": [
    "t = np.linspace(0, 10, 1000)"
   ]
  },
  {
   "cell_type": "code",
   "execution_count": 17,
   "metadata": {},
   "outputs": [
    {
     "name": "stderr",
     "output_type": "stream",
     "text": [
      "/home/hyperion/miniconda3/envs/bolt/lib/python3.7/site-packages/ipykernel_launcher.py:3: RuntimeWarning: invalid value encountered in power\n",
      "  This is separate from the ipykernel package so we can avoid doing imports until\n",
      "/home/hyperion/miniconda3/envs/bolt/lib/python3.7/site-packages/ipykernel_launcher.py:6: RuntimeWarning: invalid value encountered in power\n",
      "  \n",
      "/home/hyperion/miniconda3/envs/bolt/lib/python3.7/site-packages/ipykernel_launcher.py:7: RuntimeWarning: invalid value encountered in power\n",
      "  import sys\n"
     ]
    }
   ],
   "source": [
    "sol1  = odeint(dx_dt, xinit, t, args = (Da1,), rtol = 1e-8, full_output = 1)"
   ]
  },
  {
   "cell_type": "code",
   "execution_count": 18,
   "metadata": {},
   "outputs": [
    {
     "data": {
      "text/plain": [
       "'Integration successful.'"
      ]
     },
     "execution_count": 18,
     "metadata": {},
     "output_type": "execute_result"
    }
   ],
   "source": [
    "sol1[1]['message']"
   ]
  },
  {
   "cell_type": "code",
   "execution_count": 10,
   "metadata": {
    "scrolled": false
   },
   "outputs": [],
   "source": [
    "# for time_index, t0 in enumerate(t):\n",
    "#     print(time_index)\n",
    "#     pl.hist(R0 * sol1[0][time_index] / 1e-9, 50)\n",
    "#     pl.xlim([0.8, 7])\n",
    "#     pl.ylim([0, 4000])    \n",
    "#     pl.xlabel(r'Size(in nm)')\n",
    "#     pl.ylabel(r'$N$')\n",
    "#     pl.title('Time = %3.2f'%(t[time_index]) + r'$\\tau$')\n",
    "#     pl.savefig('images/%04d'%(time_index) + '.png', dpi = 50)\n",
    "#     pl.clf()"
   ]
  },
  {
   "cell_type": "code",
   "execution_count": 11,
   "metadata": {},
   "outputs": [
    {
     "data": {
      "text/plain": [
       "(array([1., 1., 0., 0., 0., 0., 1., 0., 0., 1.]),\n",
       " array([2.44251776, 2.68532956, 2.92814137, 3.17095318, 3.41376498,\n",
       "        3.65657679, 3.89938859, 4.1422004 , 4.3850122 , 4.62782401,\n",
       "        4.87063582]),\n",
       " <a list of 10 Patch objects>)"
      ]
     },
     "execution_count": 11,
     "metadata": {},
     "output_type": "execute_result"
    },
    {
     "data": {
      "image/png": "[encoded data removed]",
      "text/plain": [
       "<Figure size 432x288 with 1 Axes>"
      ]
     },
     "metadata": {
      "needs_background": "light"
     },
     "output_type": "display_data"
    }
   ],
   "source": [
    "ind  = ((R0 * sol1[0][-1]) / 1e-9 < 1.5)\n",
    "nind    = np.invert(ind)\n",
    "\n",
    "pl.hist(R0 * sol1[0][0] / 1e-9)\n",
    "pl.hist((R0 * sol1[0][-1])[nind] / 1e-9)"
   ]
  },
  {
   "cell_type": "code",
   "execution_count": 12,
   "metadata": {},
   "outputs": [],
   "source": [
    "surf_energy = np.zeros(t.size)\n",
    "for time_index, t0 in enumerate(t):\n",
    "    surf_energy[time_index] = ((R0 * sol1[0][time_index] / 1e-9)**2).mean()"
   ]
  },
  {
   "cell_type": "code",
   "execution_count": 13,
   "metadata": {},
   "outputs": [
    {
     "data": {
      "text/plain": [
       "[<matplotlib.lines.Line2D at 0x7fe8886131d0>]"
      ]
     },
     "execution_count": 13,
     "metadata": {},
     "output_type": "execute_result"
    },
    {
     "data": {
      "image/png": "[encoded data removed]",
      "text/plain": [
       "<Figure size 432x288 with 1 Axes>"
      ]
     },
     "metadata": {
      "needs_background": "light"
     },
     "output_type": "display_data"
    }
   ],
   "source": [
    "pl.plot(t, surf_energy)"
   ]
  },
  {
   "cell_type": "code",
   "execution_count": 19,
   "metadata": {},
   "outputs": [
    {
     "data": {
      "text/plain": [
       "nan"
      ]
     },
     "execution_count": 19,
     "metadata": {},
     "output_type": "execute_result"
    }
   ],
   "source": [
    "sol1[0][-1].min()"
   ]
  },
  {
   "cell_type": "code",
   "execution_count": 21,
   "metadata": {},
   "outputs": [],
   "source": [
    "Ravg = np.zeros(t.size)\n",
    "for time_index, t0 in enumerate(t):\n",
    "    ind  = ((R0 * sol1[0][time_index]) / 1e-9 < 1.5)\n",
    "    nind = np.invert(ind)\n",
    "\n",
    "    Ravg[time_index] = np.mean((R0 * sol1[0][time_index])[nind] / 1e-9)"
   ]
  },
  {
   "cell_type": "code",
   "execution_count": 9,
   "metadata": {},
   "outputs": [
    {
     "data": {
      "text/plain": [
       "0"
      ]
     },
     "execution_count": 9,
     "metadata": {},
     "output_type": "execute_result"
    }
   ],
   "source": [
    "minarg"
   ]
  },
  {
   "cell_type": "code",
   "execution_count": null,
   "metadata": {},
   "outputs": [],
   "source": []
  }
 ],
 "metadata": {
  "kernelspec": {
   "display_name": "Python 3",
   "language": "python",
   "name": "python3"
  },
  "language_info": {
   "codemirror_mode": {
    "name": "ipython",
    "version": 3
   },
   "file_extension": ".py",
   "mimetype": "text/x-python",
   "name": "python",
   "nbconvert_exporter": "python",
   "pygments_lexer": "ipython3",
   "version": "3.7.3"
  }
 },
 "nbformat": 4,
 "nbformat_minor": 2
}

{
 "cells": [
  {
   "cell_type": "code",
   "execution_count": 31,
   "metadata": {},
   "outputs": [],
   "source": [
    "import numpy as np\n",
    "from scipy.integrate import odeint\n",
    "from scipy.interpolate import interp1d\n",
    "from scipy.optimize import curve_fit\n",
    "import pylab as pl\n",
    "%matplotlib inline"
   ]
  },
  {
   "cell_type": "code",
   "execution_count": 32,
   "metadata": {},
   "outputs": [],
   "source": [
    "# Data from the peng paper\n",
    "data = np.loadtxt('peng.txt', delimiter=',')"
   ]
  },
  {
   "cell_type": "code",
   "execution_count": 33,
   "metadata": {},
   "outputs": [],
   "source": [
    "# Picking the data before re-injection of solute:\n",
    "t_data = data.T[0][:11]\n",
    "r_data = data.T[1][:11]\n",
    "# Generating the fitted curve from data by interpolation:\n",
    "r_fit = interp1d(t_data, r_data, kind = 'slinear')"
   ]
  },
  {
   "cell_type": "code",
   "execution_count": 34,
   "metadata": {},
   "outputs": [],
   "source": [
    "lcap = 6e-9\n",
    "# Taking the value from fit at t = 0:\n",
    "R0   = r_fit(0) * 1e-9\n",
    "cinf = 55.33\n",
    "cs   = 5.53e-2\n",
    "Vm   = 3.29e-5"
   ]
  },
  {
   "cell_type": "code",
   "execution_count": 35,
   "metadata": {},
   "outputs": [],
   "source": [
    "def dR_dt(R, t, beta, Da, delta_C):\n",
    "    dRdt = (cinf - beta * R**3 - cs * np.exp(lcap / (R0 * R)))/(delta_C * (Da + R))\n",
    "    return dRdt"
   ]
  },
  {
   "cell_type": "code",
   "execution_count": 36,
   "metadata": {},
   "outputs": [],
   "source": [
    "def compute_residual(x):\n",
    "    D  = x[0]\n",
    "    k  = x[1]\n",
    "    cs = x[2]\n",
    "    N0 = x[3]\n",
    "    \n",
    "    beta    = 4 * np.pi * N0 * R0**3 / (3 * Vm)\n",
    "    Da      = D/(k*R0)\n",
    "    delta_C = cinf - cs * np.exp(lcap/R0)\n",
    "    t0      = R0**2 / (Vm * D * delta_C)\n",
    "    \n",
    "    t   = t_data[3:11]\n",
    "    sol = odeint(dR_dt, 1, 60 * t / t0, args = (beta, Da, delta_C), rtol = 1e-12)\n",
    "\n",
    "    return(np.mean(abs(sol.ravel() * R0 / 1e-9 - r_fit(t))))"
   ]
  },
  {
   "cell_type": "code",
   "execution_count": 37,
   "metadata": {},
   "outputs": [],
   "source": [
    "def fit_parameters_curvefit(t, D, k, cs, N0):\n",
    "    # Roughly guiding the algorithm:\n",
    "    D  = D  * 1e-18\n",
    "    k  = k  * 1e-10\n",
    "    cs = cs * 1e-2\n",
    "    N0 = N0 * 1e21\n",
    "    \n",
    "    beta    = 4 * np.pi * N0 * R0**3 / (3 * Vm)\n",
    "    Da      = D/(k*R0)\n",
    "    delta_C = cinf - cs * np.exp(lcap/R0)\n",
    "    t0      = R0**2 / (Vm * D * delta_C)\n",
    "    \n",
    "    sol = odeint(dR_dt, 1, 60 * t / t0, args = (beta, Da, delta_C), rtol = 1e-12)\n",
    "    return(sol.ravel() * R0 / 1e-9)"
   ]
  },
  {
   "cell_type": "code",
   "execution_count": 38,
   "metadata": {},
   "outputs": [],
   "source": [
    "t          = t_data[3:11] \n",
    "popt, pcov = curve_fit(fit_parameters_curvefit, t, r_fit(t), bounds = (1, 10), method = 'trf')"
   ]
  },
  {
   "cell_type": "code",
   "execution_count": 39,
   "metadata": {},
   "outputs": [],
   "source": [
    "# Recovering the parameters from the curve fitting:\n",
    "D, k, cs, N0 = popt * np.array([1e-18, 1e-10, 1e-2, 1e21])"
   ]
  },
  {
   "cell_type": "code",
   "execution_count": 40,
   "metadata": {},
   "outputs": [
    {
     "name": "stdout",
     "output_type": "stream",
     "text": [
      "Residual(Fanelli et al.): 0.0634323919148479\n",
      "Residual(Our Fit)       : 0.06154272971842578\n"
     ]
    }
   ],
   "source": [
    "# Checking residual:\n",
    "# Parameters prescribed by Fanelli et al:\n",
    "print('Residual(Fanelli et al.):', compute_residual(np.array([3.01e-18, 7.97e-10, 5.53e-2, 8.04e21])))\n",
    "# Parameters obtained by us:\n",
    "print('Residual(Our Fit)       :', compute_residual(popt * np.array([1e-18, 1e-10, 1e-2, 1e21])))"
   ]
  },
  {
   "cell_type": "code",
   "execution_count": 41,
   "metadata": {},
   "outputs": [],
   "source": [
    "beta    = 4 * np.pi * N0 * R0**3 / (3 * Vm)\n",
    "Da      = D/(k*R0)\n",
    "delta_C = cinf - cs * np.exp(lcap/R0)\n",
    "t0      = R0**2 / (Vm * D * delta_C)\n",
    "\n",
    "t   = np.linspace(0, t_data[-1], 50)\n",
    "sol = odeint(dR_dt, 1, 60 * t / t0, args = (beta, Da, delta_C), rtol = 1e-12)"
   ]
  },
  {
   "cell_type": "code",
   "execution_count": 45,
   "metadata": {
    "scrolled": true
   },
   "outputs": [
    {
     "data": {
      "image/png": "[encoded data removed]",
      "text/plain": [
       "<Figure size 432x288 with 1 Axes>"
      ]
     },
     "metadata": {
      "needs_background": "light"
     },
     "output_type": "display_data"
    }
   ],
   "source": [
    "pl.plot(t, sol * R0 / 1e-9, label = 'Numerical')\n",
    "pl.plot(t_data[3:], r_data[3:], 'ko', label = r'Data From $\\it{Peng\\,et\\,al.}$')\n",
    "pl.legend(loc = 'lower right')\n",
    "pl.xlabel('Time(in minutes)')\n",
    "pl.ylabel(r'$R$(in nm)')\n",
    "pl.savefig('peng_fit.png', bbox_inches = 'tight', dpi = 300)"
   ]
  },
  {
   "cell_type": "code",
   "execution_count": 30,
   "metadata": {},
   "outputs": [
    {
     "data": {
      "text/plain": [
       "array([ 3.49550957, 10.        ,  3.64097996,  8.23391676])"
      ]
     },
     "execution_count": 30,
     "metadata": {},
     "output_type": "execute_result"
    }
   ],
   "source": []
  },
  {
   "cell_type": "code",
   "execution_count": null,
   "metadata": {},
   "outputs": [],
   "source": []
  }
 ],
 "metadata": {
  "kernelspec": {
   "display_name": "Python 3",
   "language": "python",
   "name": "python3"
  },
  "language_info": {
   "codemirror_mode": {
    "name": "ipython",
    "version": 3
   },
   "file_extension": ".py",
   "mimetype": "text/x-python",
   "name": "python",
   "nbconvert_exporter": "python",
   "pygments_lexer": "ipython3",
   "version": "3.7.4"
  }
 },
 "nbformat": 4,
 "nbformat_minor": 2
}

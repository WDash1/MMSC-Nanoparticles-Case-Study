{
 "cells": [
  {
   "cell_type": "code",
   "execution_count": 3,
   "metadata": {},
   "outputs": [],
   "source": [
    "import numpy as np\n",
    "from scipy.integrate import odeint\n",
    "import pylab as pl\n",
    "%matplotlib inline"
   ]
  },
  {
   "cell_type": "code",
   "execution_count": 12,
   "metadata": {},
   "outputs": [],
   "source": [
    "lcap = 6e-9\n",
    "R0   = 2.84984057e-09\n",
    "cinf = 55.33\n",
    "cs   = 5.53e-2\n",
    "Vm   = 3.29e-5\n",
    "D    = 3.01e-18\n",
    "k    = 7.97e-10\n",
    "N0   = 8.04e21\n",
    "beta = 4 * np.pi * N0 * R0**3 / (3 * Vm)\n",
    "Da1  = D/(k*R0)"
   ]
  },
  {
   "cell_type": "code",
   "execution_count": 13,
   "metadata": {},
   "outputs": [],
   "source": [
    "delta_C = cinf - cs * np.exp(lcap/R0)\n",
    "t0      = R0**2 / (Vm * D * delta_C)"
   ]
  },
  {
   "cell_type": "code",
   "execution_count": 14,
   "metadata": {},
   "outputs": [],
   "source": [
    "# Data from the peng paper\n",
    "data = np.loadtxt('peng.txt', delimiter=',')"
   ]
  },
  {
   "cell_type": "code",
   "execution_count": 15,
   "metadata": {},
   "outputs": [],
   "source": [
    "def dR_dt(R, t, Da):\n",
    "    dRdt = (cinf - beta * R**3 - cs * np.exp(lcap / (R0 * R)))/(delta_C * (Da + R))\n",
    "    return dRdt"
   ]
  },
  {
   "cell_type": "code",
   "execution_count": 16,
   "metadata": {},
   "outputs": [],
   "source": [
    "t = np.linspace(0, 10, 1000)"
   ]
  },
  {
   "cell_type": "code",
   "execution_count": 17,
   "metadata": {},
   "outputs": [],
   "source": [
    "Rinit = 1\n",
    "sol1  = odeint(dR_dt, Rinit, t, args = (Da1,), rtol = 1e-12)"
   ]
  },
  {
   "cell_type": "code",
   "execution_count": 18,
   "metadata": {},
   "outputs": [
    {
     "data": {
      "text/plain": [
       "Text(0, 0.5, '$R$(in nm)')"
      ]
     },
     "execution_count": 18,
     "metadata": {},
     "output_type": "execute_result"
    },
    {
     "data": {
      "image/png": "[encoded data removed]",
      "text/plain": [
       "<Figure size 432x288 with 1 Axes>"
      ]
     },
     "metadata": {
      "needs_background": "light"
     },
     "output_type": "display_data"
    }
   ],
   "source": [
    "pl.plot(t * t0 / 60, sol1 * R0 / 1e-9, label = 'Numerical')\n",
    "pl.plot(data.T[0], data.T[1], 'ko', label = r'Data From $\\it{Peng\\,et\\,al.}$')\n",
    "pl.xlim(-5, 200)\n",
    "pl.legend()\n",
    "pl.xlabel('Time(in minutes)')\n",
    "pl.ylabel(r'$R$(in nm)')"
   ]
  }
 ],
 "metadata": {
  "kernelspec": {
   "display_name": "Python 3",
   "language": "python",
   "name": "python3"
  },
  "language_info": {
   "codemirror_mode": {
    "name": "ipython",
    "version": 3
   },
   "file_extension": ".py",
   "mimetype": "text/x-python",
   "name": "python",
   "nbconvert_exporter": "python",
   "pygments_lexer": "ipython3",
   "version": "3.7.3"
  }
 },
 "nbformat": 4,
 "nbformat_minor": 2
}
